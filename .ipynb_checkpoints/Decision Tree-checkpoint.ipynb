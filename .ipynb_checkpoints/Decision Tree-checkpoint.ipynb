{
 "cells": [
  {
   "cell_type": "markdown",
   "id": "586f069c-9296-4b8a-a9ea-374121fd78c7",
   "metadata": {},
   "source": [
    "# Árvore de Decisão\n",
    "\n",
    "## Carregando o dataset"
   ]
  },
  {
   "cell_type": "code",
   "execution_count": 7,
   "id": "0e6f7377-f47d-4642-aad0-0a7ba3d93cec",
   "metadata": {},
   "outputs": [
    {
     "data": {
      "text/html": [
       "<div>\n",
       "<style scoped>\n",
       "    .dataframe tbody tr th:only-of-type {\n",
       "        vertical-align: middle;\n",
       "    }\n",
       "\n",
       "    .dataframe tbody tr th {\n",
       "        vertical-align: top;\n",
       "    }\n",
       "\n",
       "    .dataframe thead th {\n",
       "        text-align: right;\n",
       "    }\n",
       "</style>\n",
       "<table border=\"1\" class=\"dataframe\">\n",
       "  <thead>\n",
       "    <tr style=\"text-align: right;\">\n",
       "      <th></th>\n",
       "      <th>sepal length (cm)</th>\n",
       "      <th>sepal width (cm)</th>\n",
       "      <th>petal length (cm)</th>\n",
       "      <th>petal width (cm)</th>\n",
       "      <th>target</th>\n",
       "    </tr>\n",
       "  </thead>\n",
       "  <tbody>\n",
       "    <tr>\n",
       "      <th>0</th>\n",
       "      <td>5.1</td>\n",
       "      <td>3.5</td>\n",
       "      <td>1.4</td>\n",
       "      <td>0.2</td>\n",
       "      <td>0</td>\n",
       "    </tr>\n",
       "    <tr>\n",
       "      <th>1</th>\n",
       "      <td>4.9</td>\n",
       "      <td>3.0</td>\n",
       "      <td>1.4</td>\n",
       "      <td>0.2</td>\n",
       "      <td>0</td>\n",
       "    </tr>\n",
       "    <tr>\n",
       "      <th>2</th>\n",
       "      <td>4.7</td>\n",
       "      <td>3.2</td>\n",
       "      <td>1.3</td>\n",
       "      <td>0.2</td>\n",
       "      <td>0</td>\n",
       "    </tr>\n",
       "    <tr>\n",
       "      <th>3</th>\n",
       "      <td>4.6</td>\n",
       "      <td>3.1</td>\n",
       "      <td>1.5</td>\n",
       "      <td>0.2</td>\n",
       "      <td>0</td>\n",
       "    </tr>\n",
       "    <tr>\n",
       "      <th>4</th>\n",
       "      <td>5.0</td>\n",
       "      <td>3.6</td>\n",
       "      <td>1.4</td>\n",
       "      <td>0.2</td>\n",
       "      <td>0</td>\n",
       "    </tr>\n",
       "  </tbody>\n",
       "</table>\n",
       "</div>"
      ],
      "text/plain": [
       "   sepal length (cm)  sepal width (cm)  petal length (cm)  petal width (cm)  \\\n",
       "0                5.1               3.5                1.4               0.2   \n",
       "1                4.9               3.0                1.4               0.2   \n",
       "2                4.7               3.2                1.3               0.2   \n",
       "3                4.6               3.1                1.5               0.2   \n",
       "4                5.0               3.6                1.4               0.2   \n",
       "\n",
       "   target  \n",
       "0       0  \n",
       "1       0  \n",
       "2       0  \n",
       "3       0  \n",
       "4       0  "
      ]
     },
     "execution_count": 7,
     "metadata": {},
     "output_type": "execute_result"
    }
   ],
   "source": [
    "# Importando o pandas\n",
    "import pandas as pd\n",
    "\n",
    "# Importando o dataset iris\n",
    "from sklearn.datasets import load_iris\n",
    "\n",
    "# Recuperando dados\n",
    "data = load_iris()\n",
    "\n",
    "# Transformando em DataFrame\n",
    "iris = pd.DataFrame(data.data)\n",
    "\n",
    "# Nomeie as colunas com o nome das features\n",
    "iris.columns = data.feature_names\n",
    "\n",
    "# Adicione o label\n",
    "iris['target'] = data.target\n",
    "\n",
    "# Visualizacao dos dados\n",
    "iris.head()"
   ]
  },
  {
   "cell_type": "markdown",
   "id": "1a59f9a3-cbfc-47b9-8203-c3b6344e0ddf",
   "metadata": {},
   "source": [
    "Primeiro faremos uma Análise 2D, em que o modelo será aplicado apenas para as colunas petal length (cm) e petal width (cm), assim, poderemos ver uma interpretação gráfica de como as decisões são tomadas. Depois, faremos uma análise com todas as colunas"
   ]
  },
  {
   "cell_type": "markdown",
   "id": "cdddf3bf-1e80-4c0f-9dcb-9b0962a7290e",
   "metadata": {},
   "source": [
    "## Análise 2D"
   ]
  },
  {
   "cell_type": "code",
   "execution_count": 20,
   "id": "26bd9f8c-c6b8-480c-869a-45a36ae60e87",
   "metadata": {},
   "outputs": [],
   "source": [
    "from sklearn.model_selection import train_test_split\n",
    "\n",
    "# Filtre apenas as linhas com label 0 e 1\n",
    "# Filtre apenas as colunas petal length (cm), petal width (cm) e target\n",
    "iris_copy = iris.loc[iris.target.isin([0,1]), ['petal length (cm)','petal width (cm)', 'target']]\n",
    "\n",
    "# Separando X (features) e y (label)\n",
    "X = iris_copy.drop('target',axis=1)\n",
    "y = iris_copy.target\n",
    "\n",
    "# Divisao treino e teste\n",
    "X_train, X_test, y_train, y_test = train_test_split(X, y, test_size=0.33, random_state=42)"
   ]
  },
  {
   "cell_type": "markdown",
   "id": "da14c070-9572-4ef9-adfc-51fd5023bd10",
   "metadata": {},
   "source": [
    "## Análise completa"
   ]
  },
  {
   "cell_type": "code",
   "execution_count": null,
   "id": "dfe6393e-baf9-441e-91b2-f39dbe262fce",
   "metadata": {},
   "outputs": [],
   "source": []
  },
  {
   "cell_type": "code",
   "execution_count": null,
   "id": "689f76a6-b80a-479f-a938-48bfddcdf646",
   "metadata": {},
   "outputs": [],
   "source": []
  }
 ],
 "metadata": {
  "kernelspec": {
   "display_name": "Python 3 (ipykernel)",
   "language": "python",
   "name": "python3"
  },
  "language_info": {
   "codemirror_mode": {
    "name": "ipython",
    "version": 3
   },
   "file_extension": ".py",
   "mimetype": "text/x-python",
   "name": "python",
   "nbconvert_exporter": "python",
   "pygments_lexer": "ipython3",
   "version": "3.10.11"
  }
 },
 "nbformat": 4,
 "nbformat_minor": 5
}
